{
 "metadata": {
  "kernelspec": {
   "language": "python",
   "display_name": "Python 3",
   "name": "python3"
  },
  "language_info": {
   "name": "python",
   "version": "3.11.13",
   "mimetype": "text/x-python",
   "codemirror_mode": {
    "name": "ipython",
    "version": 3
   },
   "pygments_lexer": "ipython3",
   "nbconvert_exporter": "python",
   "file_extension": ".py"
  },
  "kaggle": {
   "accelerator": "none",
   "dataSources": [
    {
     "sourceId": 12487692,
     "sourceType": "datasetVersion",
     "datasetId": 7880107
    }
   ],
   "dockerImageVersionId": 31089,
   "isInternetEnabled": true,
   "language": "python",
   "sourceType": "notebook",
   "isGpuEnabled": false
  }
 },
 "nbformat_minor": 4,
 "nbformat": 4,
 "cells": [
  {
   "cell_type": "code",
   "source": "import pandas as pd\nfrom matplotlib import pyplot as plt\nimport numpy as np\n%matplotlib inline",
   "metadata": {
    "_uuid": "8f2839f25d086af736a60e9eeb907d3b93b6e0e5",
    "_cell_guid": "b1076dfc-b9ad-4769-8c92-a6c4dae69d19",
    "trusted": true,
    "execution": {
     "iopub.status.busy": "2025-07-16T12:44:07.621927Z",
     "iopub.execute_input": "2025-07-16T12:44:07.622216Z",
     "iopub.status.idle": "2025-07-16T12:44:10.483475Z",
     "shell.execute_reply.started": "2025-07-16T12:44:07.622193Z",
     "shell.execute_reply": "2025-07-16T12:44:10.482513Z"
    }
   },
   "outputs": [],
   "execution_count": 1
  },
  {
   "cell_type": "code",
   "source": "df = pd.read_csv(\"/kaggle/input/churn-data-analysis/customer_churn.csv\")\ndf.sample(5)",
   "metadata": {
    "trusted": true,
    "execution": {
     "iopub.status.busy": "2025-07-16T12:44:54.899729Z",
     "iopub.execute_input": "2025-07-16T12:44:54.900067Z",
     "iopub.status.idle": "2025-07-16T12:44:55.004232Z",
     "shell.execute_reply.started": "2025-07-16T12:44:54.900041Z",
     "shell.execute_reply": "2025-07-16T12:44:55.003461Z"
    }
   },
   "outputs": [
    {
     "execution_count": 4,
     "output_type": "execute_result",
     "data": {
      "text/plain": "      customerID  gender  SeniorCitizen Partner Dependents  tenure  \n4983  1862-SKORY  Female              1     Yes         No      40   \n6670  4075-WKNIU  Female              0     Yes        Yes       0   \n5778  3090-QFUVD  Female              0      No         No       1   \n1051  3845-JHAMY  Female              0     Yes         No      16   \n2966  8933-QRGTX  Female              1     Yes         No       1   \n\n      PhoneService     MultipleLines InternetService OnlineSecurity  \n4983           Yes                No     Fiber optic             No   \n6670           Yes               Yes     Fiber optic             No   \n5778           Yes                No             DSL             No   \n1051            No  No phone service             DSL             No   \n2966           Yes                No     Fiber optic             No   \n\n     OnlineBackup DeviceProtection TechSupport StreamingTV StreamingMovies  \n4983          Yes              Yes         Yes         Yes             Yes   \n6670          Yes              Yes         Yes         Yes             Yes   \n5778           No               No          No          No              No   \n1051          Yes               No          No          No              No   \n2966           No               No          No          No              No   \n\n             Contract PaperlessBilling              PaymentMethod  \n4983         One year              Yes  Bank transfer (automatic)   \n6670   Month-to-month              Yes           Electronic check   \n5778   Month-to-month              Yes             Mailed check   \n1051   Month-to-month              Yes  Bank transfer (automatic)   \n2966   Month-to-month              Yes           Electronic check   \n\n      MonthlyCharges  TotalCharges Churn  \n4983          110.50       4359.25    No  \n6670          108.05        224.85   Yes  \n5778           45.30          45.3   Yes  \n1051           34.65        529.65    No  \n2966           70.55          70.55  Yes  ",
      "text/html": "..."
     }
    }
   ]
  }
 ]
}